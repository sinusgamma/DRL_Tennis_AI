{
 "cells": [
  {
   "cell_type": "markdown",
   "metadata": {},
   "source": [
    "# Collaboration and Competition\n",
    "\n",
    "\n",
    "### 1. Start the Environment"
   ]
  },
  {
   "cell_type": "code",
   "execution_count": 1,
   "metadata": {},
   "outputs": [
    {
     "name": "stdout",
     "output_type": "stream",
     "text": [
      "\u001b[31mtensorflow 1.7.1 has requirement numpy>=1.13.3, but you'll have numpy 1.12.1 which is incompatible.\u001b[0m\r\n",
      "\u001b[31mipython 6.5.0 has requirement prompt-toolkit<2.0.0,>=1.0.15, but you'll have prompt-toolkit 2.0.9 which is incompatible.\u001b[0m\r\n"
     ]
    }
   ],
   "source": [
    "# run only on udacity workspace - on your machine you can skip\n",
    "!pip -q install ./python"
   ]
  },
  {
   "cell_type": "markdown",
   "metadata": {},
   "source": [
    "Change Environment path to your path:"
   ]
  },
  {
   "cell_type": "code",
   "execution_count": 2,
   "metadata": {},
   "outputs": [
    {
     "name": "stderr",
     "output_type": "stream",
     "text": [
      "INFO:unityagents:\n",
      "'Academy' started successfully!\n",
      "Unity Academy name: Academy\n",
      "        Number of Brains: 1\n",
      "        Number of External Brains : 1\n",
      "        Lesson number : 0\n",
      "        Reset Parameters :\n",
      "\t\t\n",
      "Unity brain name: TennisBrain\n",
      "        Number of Visual Observations (per agent): 0\n",
      "        Vector Observation space type: continuous\n",
      "        Vector Observation space size (per agent): 8\n",
      "        Number of stacked Vector Observation: 3\n",
      "        Vector Action space type: continuous\n",
      "        Vector Action space size (per agent): 2\n",
      "        Vector Action descriptions: , \n"
     ]
    }
   ],
   "source": [
    "from unityagents import UnityEnvironment\n",
    "import numpy as np\n",
    "\n",
    "env = UnityEnvironment(file_name=\"/data/Tennis_Linux_NoVis/Tennis\")"
   ]
  },
  {
   "cell_type": "markdown",
   "metadata": {},
   "source": [
    "Environments contain **_brains_** which are responsible for deciding the actions of their associated agents. Here we check for the first brain available, and set it as the default brain we will be controlling from Python."
   ]
  },
  {
   "cell_type": "code",
   "execution_count": 3,
   "metadata": {},
   "outputs": [],
   "source": [
    "# get the default brain\n",
    "brain_name = env.brain_names[0]\n",
    "brain = env.brains[brain_name]"
   ]
  },
  {
   "cell_type": "markdown",
   "metadata": {},
   "source": [
    "### 2. Examine the State and Action Spaces\n",
    "\n",
    "Run the code cell below to print some information about the environment."
   ]
  },
  {
   "cell_type": "code",
   "execution_count": 4,
   "metadata": {},
   "outputs": [
    {
     "name": "stdout",
     "output_type": "stream",
     "text": [
      "Number of agents: 2\n",
      "Size of each action: 2\n",
      "There are 2 agents. Each observes a state with length: 24\n",
      "The state for the first agent looks like: [ 0.          0.          0.          0.          0.          0.          0.\n",
      "  0.          0.          0.          0.          0.          0.          0.\n",
      "  0.          0.         -6.65278625 -1.5        -0.          0.\n",
      "  6.83172083  6.         -0.          0.        ]\n"
     ]
    }
   ],
   "source": [
    "# reset the environment\n",
    "env_info = env.reset(train_mode=True)[brain_name]\n",
    "\n",
    "# number of agents \n",
    "num_agents = len(env_info.agents)\n",
    "print('Number of agents:', num_agents)\n",
    "\n",
    "# size of each action\n",
    "action_size = brain.vector_action_space_size\n",
    "print('Size of each action:', action_size)\n",
    "\n",
    "# examine the state space \n",
    "states = env_info.vector_observations\n",
    "state_size = states.shape[1]\n",
    "print('There are {} agents. Each observes a state with length: {}'.format(states.shape[0], state_size))\n",
    "print('The state for the first agent looks like:', states[0])"
   ]
  },
  {
   "cell_type": "code",
   "execution_count": 5,
   "metadata": {},
   "outputs": [],
   "source": [
    "from collections import deque\n",
    "import matplotlib.pyplot as plt\n",
    "%matplotlib inline\n",
    "import torch\n",
    "from ddpg_agent import Agent"
   ]
  },
  {
   "cell_type": "markdown",
   "metadata": {},
   "source": [
    "### 3. Instantiate the agent and start training"
   ]
  },
  {
   "cell_type": "code",
   "execution_count": null,
   "metadata": {},
   "outputs": [],
   "source": [
    "# instantiate the agent\n",
    "agent = Agent(state_size=state_size, action_size=action_size, num_agents=num_agents, random_seed=123)"
   ]
  },
  {
   "cell_type": "code",
   "execution_count": 7,
   "metadata": {},
   "outputs": [],
   "source": [
    "def ddpg(n_episodes=10000, print_every=100):\n",
    "    scores_deque = deque(maxlen=100)\n",
    "    scores_all = []\n",
    "    for i_episode in range(1, n_episodes+1):\n",
    "        env_info = env.reset(train_mode=True)[brain_name] # resets env, training = true\n",
    "        states = env_info.vector_observations #get current state \n",
    "        scores = np.zeros(num_agents)\n",
    "        while True:\n",
    "            actions = agent.act(states)                          #gets an action\n",
    "            env_info = env.step(actions)[brain_name]            #step through action                    \n",
    "            next_states = env_info.vector_observations          # get next state (for each agent)\n",
    "            rewards = env_info.rewards                          # get reward (for each agent)\n",
    "            dones = env_info.local_done                         # see if episode finished\n",
    "            agent.step(states, actions, rewards, next_states, dones)\n",
    "            scores += np.array(rewards)                                   # update the score (for each agent)\n",
    "            states = next_states            \n",
    "            if np.any(dones):\n",
    "                break\n",
    "        \n",
    "        # append the score of the better agent\n",
    "        scores_deque.append(np.amax(scores))\n",
    "        scores_all.append(np.amax(scores))\n",
    "        \n",
    "        print('\\rEpisode: {}\\tMoving Average Score: {:.2f}\\tScore_0: {:.2f}\\tScore_1: {:.2f}'.format(i_episode, np.mean(scores_deque), scores[0], scores[1]), end=\"\")\n",
    "                \n",
    "        if i_episode % print_every == 0:\n",
    "            print('\\rEpisode {}\\tMoving Average Score: {:.2f}'.format(i_episode, np.mean(scores_deque)))\n",
    "                        \n",
    "        if np.mean(scores_deque) >= 0.5:\n",
    "            print('\\nEnvironment solved in {:d} episodes!\\tAverage Score: {:.5f}'.format(i_episode, np.mean(scores_deque)))\n",
    "            for i in range(num_agents):\n",
    "                torch.save(agent.actor_local.state_dict(), \"actor.pth\")\n",
    "                torch.save(agent.critic_local.state_dict(), \"critic.pth\")\n",
    "            break\n",
    "\n",
    "    return scores_all"
   ]
  },
  {
   "cell_type": "code",
   "execution_count": 8,
   "metadata": {},
   "outputs": [
    {
     "name": "stdout",
     "output_type": "stream",
     "text": [
      "Episode 100\tMoving Average Score: 0.000\tScore_0: 0.00\tScore_1: -0.01\n",
      "Episode 200\tMoving Average Score: 0.000\tScore_0: -0.01\tScore_1: 0.00\n",
      "Episode 300\tMoving Average Score: 0.000\tScore_0: 0.00\tScore_1: -0.01\n",
      "Episode 400\tMoving Average Score: 0.000\tScore_0: -0.01\tScore_1: 0.00\n",
      "Episode 500\tMoving Average Score: 0.000\tScore_0: 0.00\tScore_1: -0.01\n",
      "Episode 600\tMoving Average Score: 0.000\tScore_0: -0.01\tScore_1: 0.00\n",
      "Episode 700\tMoving Average Score: 0.000\tScore_0: -0.01\tScore_1: 0.00\n",
      "Episode 800\tMoving Average Score: 0.000\tScore_0: -0.01\tScore_1: 0.00\n",
      "Episode 900\tMoving Average Score: 0.000\tScore_0: 0.00\tScore_1: -0.01\n",
      "Episode 1000\tMoving Average Score: 0.000\tScore_0: -0.01\tScore_1: 0.00\n",
      "Episode 1100\tMoving Average Score: 0.000\tScore_0: 0.00\tScore_1: -0.01\n",
      "Episode 1200\tMoving Average Score: 0.000\tScore_0: -0.01\tScore_1: 0.00\n",
      "Episode 1300\tMoving Average Score: 0.011\tScore_0: -0.01\tScore_1: 0.00\n",
      "Episode 1400\tMoving Average Score: 0.022\tScore_0: 0.00\tScore_1: -0.01\n",
      "Episode 1500\tMoving Average Score: 0.011\tScore_0: 0.00\tScore_1: -0.01\n",
      "Episode 1600\tMoving Average Score: 0.011\tScore_0: 0.00\tScore_1: -0.01\n",
      "Episode 1700\tMoving Average Score: 0.033\tScore_0: 0.00\tScore_1: -0.01\n",
      "Episode 1800\tMoving Average Score: 0.055\tScore_0: -0.01\tScore_1: 0.00\n",
      "Episode 1900\tMoving Average Score: 0.066\tScore_0: 0.00\tScore_1: 0.091\n",
      "Episode 2000\tMoving Average Score: 0.077\tScore_0: 0.10\tScore_1: -0.01\n",
      "Episode 2100\tMoving Average Score: 0.088\tScore_0: 0.10\tScore_1: -0.01\n",
      "Episode 2200\tMoving Average Score: 0.100\tScore_0: 0.00\tScore_1: -0.01\n",
      "Episode 2300\tMoving Average Score: 0.122\tScore_0: 0.20\tScore_1: 0.191\n",
      "Episode 2400\tMoving Average Score: 0.188\tScore_0: 0.10\tScore_1: 0.090\n",
      "Episode 2500\tMoving Average Score: 0.233\tScore_0: 0.30\tScore_1: 0.290\n",
      "Episode 2600\tMoving Average Score: 0.188\tScore_0: 0.10\tScore_1: 0.091\n",
      "Episode 2700\tMoving Average Score: 0.222\tScore_0: 0.00\tScore_1: -0.01\n",
      "Episode 2800\tMoving Average Score: 0.266\tScore_0: 1.09\tScore_1: 1.100\n",
      "Episode 2900\tMoving Average Score: 0.355\tScore_0: 0.59\tScore_1: 0.701\n",
      "Episode 3000\tMoving Average Score: 0.322\tScore_0: 0.60\tScore_1: 0.481\n",
      "Episode 3100\tMoving Average Score: 0.255\tScore_0: 0.70\tScore_1: 0.691\n",
      "Episode 3200\tMoving Average Score: 0.388\tScore_0: 0.10\tScore_1: -0.01\n",
      "Episode 3300\tMoving Average Score: 0.377\tScore_0: 0.10\tScore_1: 0.090\n",
      "Episode 3400\tMoving Average Score: 0.266\tScore_0: 0.09\tScore_1: 0.100\n",
      "Episode 3500\tMoving Average Score: 0.399\tScore_0: 0.09\tScore_1: 0.200\n",
      "Episode 3600\tMoving Average Score: 0.355\tScore_0: -0.01\tScore_1: 0.00\n",
      "Episode 3700\tMoving Average Score: 0.377\tScore_0: -0.01\tScore_1: 0.00\n",
      "Episode 3800\tMoving Average Score: 0.255\tScore_0: 0.10\tScore_1: 0.091\n",
      "Episode 3900\tMoving Average Score: 0.333\tScore_0: 0.19\tScore_1: 0.201\n",
      "Episode 4000\tMoving Average Score: 0.377\tScore_0: 1.29\tScore_1: 1.301\n",
      "Episode 4100\tMoving Average Score: 0.299\tScore_0: 0.39\tScore_1: 0.501\n",
      "Episode 4200\tMoving Average Score: 0.355\tScore_0: 0.00\tScore_1: -0.01\n",
      "Episode 4300\tMoving Average Score: 0.366\tScore_0: 0.00\tScore_1: -0.01\n",
      "Episode 4400\tMoving Average Score: 0.388\tScore_0: 0.89\tScore_1: 0.900\n",
      "Episode 4500\tMoving Average Score: 0.300\tScore_0: 0.10\tScore_1: -0.01\n",
      "Episode 4600\tMoving Average Score: 0.355\tScore_0: 0.30\tScore_1: 0.190\n",
      "Episode 4700\tMoving Average Score: 0.311\tScore_0: 0.20\tScore_1: 0.090\n",
      "Episode: 4793\tMoving Average Score: 0.50\tScore_0: 1.80\tScore_1: 1.791\n",
      "Environment solved in 4793 episodes!\tAverage Score: 0.50270\n"
     ]
    }
   ],
   "source": [
    "import workspace_utils\n",
    "from workspace_utils import active_session\n",
    "\n",
    "with active_session():\n",
    "    scores_all = ddpg()"
   ]
  },
  {
   "cell_type": "code",
   "execution_count": 9,
   "metadata": {},
   "outputs": [
    {
     "data": {
      "image/png": "[encoded data removed]",
      "text/plain": [
       "<matplotlib.figure.Figure at 0x7ff10bfc1b38>"
      ]
     },
     "metadata": {
      "needs_background": "light"
     },
     "output_type": "display_data"
    }
   ],
   "source": [
    "from draw_figure import FigureDisplay\n",
    "fd = FigureDisplay(scores_all, \"result2.jpg\")\n",
    "fd.display()"
   ]
  },
  {
   "cell_type": "markdown",
   "metadata": {},
   "source": [
    "### 4. Let's see how performs a trained agent"
   ]
  },
  {
   "cell_type": "code",
   "execution_count": 7,
   "metadata": {},
   "outputs": [
    {
     "name": "stdout",
     "output_type": "stream",
     "text": [
      "Total score:  0.5950000090524554\n"
     ]
    }
   ],
   "source": [
    "agent = Agent(state_size=state_size, action_size=action_size, num_agents=num_agents, random_seed=0)\n",
    "\n",
    "agent.actor_local.load_state_dict(torch.load(\"actor.pth\", map_location='cpu'))\n",
    "agent.critic_local.load_state_dict(torch.load(\"critic.pth\", map_location='cpu'))\n",
    "\n",
    "env_info = env.reset(train_mode=False)[brain_name]     # reset the environment    \n",
    "states = env_info.vector_observations                  # get the current state (for each agent)\n",
    "scores = np.zeros(num_agents)                          # initialize the score (for each agent)\n",
    "while True:\n",
    "    #change here the source of agents\n",
    "    actions = agent.act(states)                        # select an action (for each agent)\n",
    "    env_info = env.step(actions)[brain_name]           # send all actions to tne environment\n",
    "    next_states = env_info.vector_observations         # get next state (for each agent)\n",
    "    rewards = env_info.rewards                         # get reward (for each agent)\n",
    "    dones = env_info.local_done                        # see if episode finished\n",
    "    scores += env_info.rewards                         # update the score (for each agent)\n",
    "    states = next_states                               # roll over states to next time step\n",
    "    if np.any(dones):                                  # exit loop if episode finished\n",
    "        break\n",
    "print('Total score: ', format(np.mean(scores)))"
   ]
  },
  {
   "cell_type": "code",
   "execution_count": 8,
   "metadata": {},
   "outputs": [],
   "source": [
    "env.close()"
   ]
  },
  {
   "cell_type": "code",
   "execution_count": null,
   "metadata": {},
   "outputs": [],
   "source": []
  }
 ],
 "metadata": {
  "kernelspec": {
   "display_name": "Python 3",
   "language": "python",
   "name": "python3"
  },
  "language_info": {
   "codemirror_mode": {
    "name": "ipython",
    "version": 3
   },
   "file_extension": ".py",
   "mimetype": "text/x-python",
   "name": "python",
   "nbconvert_exporter": "python",
   "pygments_lexer": "ipython3",
   "version": "3.6.3"
  }
 },
 "nbformat": 4,
 "nbformat_minor": 2
}
